{
 "cells": [
  {
   "cell_type": "markdown",
   "metadata": {},
   "source": [
    "# 7-mer Word Chains\n",
    "This notebook makes a graph where nodes represent 7-mer sequences and edges represent a change in sequence (ex: AAA->AAC). "
   ]
  },
  {
   "cell_type": "markdown",
   "metadata": {},
   "source": [
    "Here, we are first generating all 7-mer sequences. These sequences are also present in 7-mer dict. "
   ]
  },
  {
   "cell_type": "markdown",
   "metadata": {},
   "source": []
  },
  {
   "cell_type": "code",
   "execution_count": 108,
   "metadata": {},
   "outputs": [],
   "source": [
    "import itertools\n",
    "WORD_LIST = '7-mer dict'\n",
    "WORD_LEN = 7\n",
    "MAX_ITERS = 100\n",
    "import pydot \n",
    "import networkx as nx\n",
    "from networkx.drawing.nx_pydot import from_pydot\n",
    "import pandas as pd\n",
    "import matplotlib.pyplot as plt"
   ]
  },
  {
   "cell_type": "code",
   "execution_count": 3,
   "metadata": {},
   "outputs": [],
   "source": [
    "def seq_gen():\n",
    "    # Generate all 7-character combinations of A, G, T, C\n",
    "    combinations = [''.join(p) for p in itertools.product('AGTC', repeat=7)]\n",
    "    print(f\"Total number of combinations: {len(combinations)}\")\n",
    "    #write to file\n",
    "    with open(\"7-mer dict.txt\", 'w') as file :\n",
    "        for line in combinations:\n",
    "            file.write(line+\"\\n\")\n",
    "    print(\"done\")\n",
    "   \n",
    "        "
   ]
  },
  {
   "cell_type": "code",
   "execution_count": 31,
   "metadata": {},
   "outputs": [
    {
     "name": "stdout",
     "output_type": "stream",
     "text": [
      "Total number of combinations: 16384\n",
      "done\n"
     ]
    }
   ],
   "source": [
    "seq_gen()"
   ]
  },
  {
   "cell_type": "markdown",
   "metadata": {},
   "source": [
    "## Creating 7-mer Network\n",
    "This code creates a graph with 7-mer nodes and edges denoting a character relationship (for example, 'AAAAAAA'---'AAAAAAT'). "
   ]
  },
  {
   "cell_type": "code",
   "execution_count": 17,
   "metadata": {},
   "outputs": [],
   "source": [
    "# Convert a string to a number\n",
    "def make_number(word):\n",
    "    num = 0\n",
    "    mult = 1\n",
    "    for w in word:\n",
    "        num += (ord(w) - ord('A')) * mult\n",
    "        mult *= 256\n",
    "    return num\n",
    "\n",
    "# Convert a number to a string\n",
    "def make_word(number):\n",
    "    word = \"\"\n",
    "    for i in range(WORD_LEN):\n",
    "        word += chr((number & 0xFF) + ord('A'))\n",
    "        number >>= 8\n",
    "    return word\n",
    "\n",
    "#makes dictionary of connections\n",
    "def make_dict():\n",
    "    # Create a lookup table for 1 letter diffs (fastest)\n",
    "    print('Creating Diff Lookup Table...')\n",
    "    pair_lut = set()\n",
    "    for i in range(WORD_LEN):\n",
    "        for j in range(32):\n",
    "            pair_lut.add(j << (i * 8))\n",
    "    print('Loading Dictionary...')\n",
    "    all_words = []\n",
    "    with open(WORD_LIST + '.txt', 'r') as fin:\n",
    "        for word in fin:\n",
    "            word = word.strip().upper()\n",
    "            if len(word) == WORD_LEN:\n",
    "                all_words.append(make_number(word))\n",
    "    print('Loaded ' + str(len(all_words)) + ' words.')\n",
    "    print('Finding All Connections...')\n",
    "    all_pairs = []\n",
    "    for i in range(len(all_words)):\n",
    "        w1 = all_words[i]\n",
    "        word1 = make_word(w1)\n",
    "        for j in range(i):\n",
    "            w2 = all_words[j]\n",
    "            #p = are_pair_num(w1, w2)\n",
    "            p = (w1 ^ w2) in pair_lut\n",
    "            if p:\n",
    "                all_pairs.append((word1, make_word(w2)))\n",
    "    print(\"Found \" + str(len(all_pairs)) + \" connections.\")\n",
    "    print(\"Writing file...\")\n",
    "    with open(\"graph.dot\",'w') as fout:\n",
    "        fout.write('graph words {\\n')\n",
    "        for w in all_words:\n",
    "            word = make_word(w)\n",
    "            fout.write('  \"' + word + '\";\\n')\n",
    "        for w1,w2 in all_pairs:\n",
    "            fout.write('  \"' + w1 + '\" -- \"' + w2 + '\";\\n')\n",
    "        fout.write('}\\n')\n",
    "    print(\"done\")\n",
    "    return all_words, pair_lut\n",
    "    \n",
    "    #returns the number of edges from one node to another\n",
    "def get_edges(node1, node2, all_words, pair_lut):\n",
    "    from_word = make_number(node1)\n",
    "    to_word = make_number(node2)\n",
    "    if from_word != 0 and not from_word in all_words:\n",
    "        print(\"No connections to \" + make_word(from_word))\n",
    "        return -1\n",
    "    if not to_word in all_words:\n",
    "        print(\"No connections to \" + make_word(to_word))\n",
    "        return -1\n",
    "    connections = {}\n",
    "    dist = dict([(word,-1) for word in all_words])\n",
    "    dist[to_word] = 0\n",
    "    is_found = False\n",
    "    for iter in range(MAX_ITERS):\n",
    "        made_changes = False\n",
    "        for w1 in all_words:\n",
    "            if dist[w1] == iter:\n",
    "                for w2 in all_words:\n",
    "                    if dist[w2] != -1: continue\n",
    "                    if (w1 ^ w2) not in pair_lut: continue\n",
    "                    dist[w2] = iter + 1\n",
    "                    connections[w2] = w1\n",
    "                    made_changes = True\n",
    "                    if w2 == from_word:\n",
    "                        is_found = True\n",
    "                        break\n",
    "            if is_found: break\n",
    "        if is_found or (not made_changes): break    \n",
    "    if from_word != 0:\n",
    "        if not from_word in connections:\n",
    "            print('Can not connect!')\n",
    "            return -1\n",
    "        else:\n",
    "            w = from_word\n",
    "            while True:\n",
    "                if w == to_word: break\n",
    "                w = connections[w]\n",
    "            return dist[from_word]\n",
    "    else:\n",
    "        for word in all_words:\n",
    "            if dist[word] > 0:\n",
    "                return dist[word]\n",
    "            \n",
    "def get_k_nearest(node, k, graph):\n",
    "    neighbors = []\n",
    "    neighbors.append(node)\n",
    "    nx_graph = from_pydot(graph)\n",
    "    for i in range(0,k):\n",
    "        new_neighbors = [] \n",
    "        for n in neighbors:\n",
    "            new_neighbors = new_neighbors+list(nx_graph.neighbors(n))\n",
    "        new_neighbors = list(set(new_neighbors))\n",
    "        neighbors = new_neighbors\n",
    "    return neighbors"
   ]
  },
  {
   "cell_type": "code",
   "execution_count": 5,
   "metadata": {},
   "outputs": [
    {
     "name": "stdout",
     "output_type": "stream",
     "text": [
      "Creating Diff Lookup Table...\n",
      "Loading Dictionary...\n",
      "Loaded 16384 words.\n",
      "Finding All Connections...\n",
      "Found 172032 connections.\n",
      "Writing file...\n",
      "done\n"
     ]
    }
   ],
   "source": [
    "all_words, pair_lut = make_dict()\n",
    "(graph,) = pydot.graph_from_dot_file(\"graph.dot\")"
   ]
  },
  {
   "cell_type": "markdown",
   "metadata": {},
   "source": [
    "# Utilizing Data\n",
    "We now combine the network data with Mean RNA-binding proteins (RBP) Values. In this case, we are calculating the mean RBP for a set of 7-mers, decided by the network data. "
   ]
  },
  {
   "cell_type": "code",
   "execution_count": 196,
   "metadata": {},
   "outputs": [],
   "source": [
    "def meanRBP_values(motif_set, data_df):\n",
    "    total_RBP = 0\n",
    "    for motif in motif_set:\n",
    "        total_RBP += data_df.loc[data_df['Motif'] == motif, 'Mean_RBP'].values[0]\n",
    "    return total_RBP\n",
    "\n",
    "def get_density(motif_set, graph):\n",
    "    subgraph = pydot.Subgraph()\n",
    "    for node in motif_set:\n",
    "        subgraph.add_node(pydot.Node(node))\n",
    "    for edge in graph.get_edges():\n",
    "        src = edge.get_source().replace('\"', '')\n",
    "        dst = edge.get_destination().replace('\"', '')\n",
    "        if src in motif_set and dst in motif_set:\n",
    "            subgraph.add_edge(pydot.Edge(src, dst))\n",
    "    nx_graph = nx.nx_pydot.from_pydot(subgraph)\n",
    "    #print(nx_graph)\n",
    "    return nx.density(nx_graph)\n",
    "\n",
    "def get_connectivity(motif_set):\n",
    "    total_distance = 1\n",
    "    for motif1 in motif_set:\n",
    "        for motif2 in motif_set:\n",
    "            if motif1 != motif2:\n",
    "                distance = get_edges(motif1, motif2, all_words, pair_lut)\n",
    "                if distance == -1:\n",
    "                    print(\"ERROR: Distance = -1\")\n",
    "                total_distance += distance\n",
    "    return len(motif_set)/total_distance\n",
    "\n",
    "def prep_c_rbp(in_file):\n",
    "    df = pd.read_csv(\"data/\"+in_file+\".csv\")[[\"Motif\",\"Mean_RBP\"]]\n",
    "    df = df.sort_values(by=['Mean_RBP'], ascending=False)\n",
    "    df.insert(2, \"Connectivity\", [None] * len(df), True)\n",
    "    df.insert(2, \"Connectivity * Mean_RBP\", [None] * len(df), True)\n",
    "    df = df.reset_index(drop=True)\n",
    "    df.to_csv(\"data/\"+in_file+\"_Connectivity.csv\")\n",
    "\n",
    "def calc_c_rbp(in_file):\n",
    "    df = pd.read_csv(\"data/\"+in_file+\"_Connectivity.csv\")\n",
    "    while df.isna().any().any():\n",
    "        motif_set = []\n",
    "        first_none_index = df[\"Connectivity * Mean_RBP\"].isnull().idxmax() if df[\"Connectivity * Mean_RBP\"].isnull().values.any() else None\n",
    "        print(first_none_index)\n",
    "        rbp_sum = sum(df['Mean_RBP'][:first_none_index+1])\n",
    "        motif_set = df['Motif'][:first_none_index]\n",
    "        connectivity = get_connectivity(motif_set)\n",
    "        c_rbp = connectivity * rbp_sum\n",
    "        df.at[first_none_index, 'Connectivity'] = connectivity\n",
    "        df.at[first_none_index, 'Connectivity * Mean_RBP'] = c_rbp\n",
    "        df.to_csv(\"data/\"+in_file+\"_Connectivity.csv\")\n",
    "    print(\"done\")"
   ]
  },
  {
   "cell_type": "code",
   "execution_count": 198,
   "metadata": {},
   "outputs": [
    {
     "name": "stdout",
     "output_type": "stream",
     "text": [
      "13\n"
     ]
    },
    {
     "ename": "KeyboardInterrupt",
     "evalue": "",
     "output_type": "error",
     "traceback": [
      "\u001b[0;31m---------------------------------------------------------------------------\u001b[0m",
      "\u001b[0;31mKeyboardInterrupt\u001b[0m                         Traceback (most recent call last)",
      "Cell \u001b[0;32mIn[198], line 2\u001b[0m\n\u001b[1;32m      1\u001b[0m \u001b[38;5;66;03m#prep_c_rbp(\"ZF_7N_PCBP2_vs_Adar-1\")\u001b[39;00m\n\u001b[0;32m----> 2\u001b[0m \u001b[43mcalc_c_rbp\u001b[49m\u001b[43m(\u001b[49m\u001b[38;5;124;43m\"\u001b[39;49m\u001b[38;5;124;43mZF_7N_PCBP2_vs_Adar-1\u001b[39;49m\u001b[38;5;124;43m\"\u001b[39;49m\u001b[43m)\u001b[49m\n",
      "Cell \u001b[0;32mIn[196], line 47\u001b[0m, in \u001b[0;36mcalc_c_rbp\u001b[0;34m(in_file)\u001b[0m\n\u001b[1;32m     45\u001b[0m rbp_sum \u001b[38;5;241m=\u001b[39m \u001b[38;5;28msum\u001b[39m(df[\u001b[38;5;124m'\u001b[39m\u001b[38;5;124mMean_RBP\u001b[39m\u001b[38;5;124m'\u001b[39m][:first_none_index\u001b[38;5;241m+\u001b[39m\u001b[38;5;241m1\u001b[39m])\n\u001b[1;32m     46\u001b[0m motif_set \u001b[38;5;241m=\u001b[39m df[\u001b[38;5;124m'\u001b[39m\u001b[38;5;124mMotif\u001b[39m\u001b[38;5;124m'\u001b[39m][:first_none_index]\n\u001b[0;32m---> 47\u001b[0m connectivity \u001b[38;5;241m=\u001b[39m \u001b[43mget_connectivity\u001b[49m\u001b[43m(\u001b[49m\u001b[43mmotif_set\u001b[49m\u001b[43m)\u001b[49m\n\u001b[1;32m     48\u001b[0m c_rbp \u001b[38;5;241m=\u001b[39m connectivity \u001b[38;5;241m*\u001b[39m rbp_sum\n\u001b[1;32m     49\u001b[0m df\u001b[38;5;241m.\u001b[39mat[first_none_index, \u001b[38;5;124m'\u001b[39m\u001b[38;5;124mConnectivity\u001b[39m\u001b[38;5;124m'\u001b[39m] \u001b[38;5;241m=\u001b[39m connectivity\n",
      "Cell \u001b[0;32mIn[196], line 25\u001b[0m, in \u001b[0;36mget_connectivity\u001b[0;34m(motif_set)\u001b[0m\n\u001b[1;32m     23\u001b[0m \u001b[38;5;28;01mfor\u001b[39;00m motif2 \u001b[38;5;129;01min\u001b[39;00m motif_set:\n\u001b[1;32m     24\u001b[0m     \u001b[38;5;28;01mif\u001b[39;00m motif1 \u001b[38;5;241m!=\u001b[39m motif2:\n\u001b[0;32m---> 25\u001b[0m         distance \u001b[38;5;241m=\u001b[39m \u001b[43mget_edges\u001b[49m\u001b[43m(\u001b[49m\u001b[43mmotif1\u001b[49m\u001b[43m,\u001b[49m\u001b[43m \u001b[49m\u001b[43mmotif2\u001b[49m\u001b[43m,\u001b[49m\u001b[43m \u001b[49m\u001b[43mall_words\u001b[49m\u001b[43m,\u001b[49m\u001b[43m \u001b[49m\u001b[43mpair_lut\u001b[49m\u001b[43m)\u001b[49m\n\u001b[1;32m     26\u001b[0m         \u001b[38;5;28;01mif\u001b[39;00m distance \u001b[38;5;241m==\u001b[39m \u001b[38;5;241m-\u001b[39m\u001b[38;5;241m1\u001b[39m:\n\u001b[1;32m     27\u001b[0m             \u001b[38;5;28mprint\u001b[39m(\u001b[38;5;124m\"\u001b[39m\u001b[38;5;124mERROR: Distance = -1\u001b[39m\u001b[38;5;124m\"\u001b[39m)\n",
      "Cell \u001b[0;32mIn[17], line 77\u001b[0m, in \u001b[0;36mget_edges\u001b[0;34m(node1, node2, all_words, pair_lut)\u001b[0m\n\u001b[1;32m     75\u001b[0m \u001b[38;5;28;01mif\u001b[39;00m dist[w1] \u001b[38;5;241m==\u001b[39m \u001b[38;5;28miter\u001b[39m:\n\u001b[1;32m     76\u001b[0m     \u001b[38;5;28;01mfor\u001b[39;00m w2 \u001b[38;5;129;01min\u001b[39;00m all_words:\n\u001b[0;32m---> 77\u001b[0m         \u001b[38;5;28;01mif\u001b[39;00m dist[w2] \u001b[38;5;241m!=\u001b[39m \u001b[38;5;241m-\u001b[39m\u001b[38;5;241m1\u001b[39m: \u001b[38;5;28;01mcontinue\u001b[39;00m\n\u001b[1;32m     78\u001b[0m         \u001b[38;5;28;01mif\u001b[39;00m (w1 \u001b[38;5;241m^\u001b[39m w2) \u001b[38;5;129;01mnot\u001b[39;00m \u001b[38;5;129;01min\u001b[39;00m pair_lut: \u001b[38;5;28;01mcontinue\u001b[39;00m\n\u001b[1;32m     79\u001b[0m         dist[w2] \u001b[38;5;241m=\u001b[39m \u001b[38;5;28miter\u001b[39m \u001b[38;5;241m+\u001b[39m \u001b[38;5;241m1\u001b[39m\n",
      "\u001b[0;31mKeyboardInterrupt\u001b[0m: "
     ]
    }
   ],
   "source": [
    "#prep_c_rbp(\"ZF_7N_PCBP2_vs_Adar-1\")\n",
    "calc_c_rbp(\"ZF_7N_PCBP2_vs_Adar-1\")"
   ]
  }
 ],
 "metadata": {
  "kernelspec": {
   "display_name": "venv",
   "language": "python",
   "name": "python3"
  },
  "language_info": {
   "codemirror_mode": {
    "name": "ipython",
    "version": 3
   },
   "file_extension": ".py",
   "mimetype": "text/x-python",
   "name": "python",
   "nbconvert_exporter": "python",
   "pygments_lexer": "ipython3",
   "version": "3.10.5"
  }
 },
 "nbformat": 4,
 "nbformat_minor": 2
}
